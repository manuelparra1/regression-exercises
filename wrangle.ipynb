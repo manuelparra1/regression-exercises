{
 "cells": [
  {
   "cell_type": "code",
   "execution_count": 15,
   "id": "d0165f23",
   "metadata": {},
   "outputs": [],
   "source": [
    "import numpy as np\n",
    "import pandas as pd\n",
    "import matplotlib.pyplot as plt\n",
    "import seaborn as sns\n",
    "\n",
    "from env import get_db_url"
   ]
  },
  {
   "cell_type": "code",
   "execution_count": 41,
   "id": "4abb6e10",
   "metadata": {},
   "outputs": [],
   "source": [
    "def get_data(sql_db, query):\n",
    "    url = get_db_url(sql_db)\n",
    "\n",
    "    df = pd.read_sql(query, url)\n",
    "    df.to_csv(f'{sql_db}.csv')\n",
    "\n",
    "    return df"
   ]
  },
  {
   "cell_type": "code",
   "execution_count": 42,
   "id": "9eeba049",
   "metadata": {},
   "outputs": [],
   "source": [
    "def clean_data(df):\n",
    "    return df"
   ]
  },
  {
   "cell_type": "code",
   "execution_count": 53,
   "id": "5c84102c",
   "metadata": {
    "scrolled": true
   },
   "outputs": [],
   "source": [
    "def wrangle_zillow():\n",
    "    sql_db = \"zillow\"\n",
    "    query = '''\n",
    "            SELECT\n",
    "                bedroomcnt,\n",
    "                bathroomcnt,\n",
    "                calculatedfinishedsquarefeet,\n",
    "                taxvaluedollarcnt,\n",
    "                yearbuilt,\n",
    "                taxamount,\n",
    "                fips,\n",
    "                propertylandusedesc\n",
    "            FROM\n",
    "                properties_2017\n",
    "            LEFT JOIN propertylandusetype USING (propertylandusetypeid)\n",
    "            LEFT JOIN storytype USING (storytypeid)\n",
    "            LEFT JOIN typeconstructiontype USING (typeconstructiontypeid)\n",
    "            LEFT JOIN heatingorsystemtype USING (heatingorsystemtypeid)\n",
    "            LEFT JOIN buildingclasstype USING (buildingclasstypeid)\n",
    "            LEFT JOIN architecturalstyletype USING (architecturalstyletypeid)\n",
    "            LEFT JOIN airconditioningtype USING (airconditioningtypeid);\n",
    "            '''\n",
    "    df=get_data(sql_db,query)\n",
    "    return df"
   ]
  },
  {
   "cell_type": "markdown",
   "id": "c74a579a",
   "metadata": {},
   "source": [
    "<hr style=\"border:2px solid gray\">"
   ]
  },
  {
   "cell_type": "code",
   "execution_count": 54,
   "id": "c7036346",
   "metadata": {},
   "outputs": [],
   "source": [
    "df=get_data(sql_db,sql_query)"
   ]
  },
  {
   "cell_type": "code",
   "execution_count": 55,
   "id": "e6852f20",
   "metadata": {},
   "outputs": [
    {
     "data": {
      "text/html": [
       "<div>\n",
       "<style scoped>\n",
       "    .dataframe tbody tr th:only-of-type {\n",
       "        vertical-align: middle;\n",
       "    }\n",
       "\n",
       "    .dataframe tbody tr th {\n",
       "        vertical-align: top;\n",
       "    }\n",
       "\n",
       "    .dataframe thead th {\n",
       "        text-align: right;\n",
       "    }\n",
       "</style>\n",
       "<table border=\"1\" class=\"dataframe\">\n",
       "  <thead>\n",
       "    <tr style=\"text-align: right;\">\n",
       "      <th></th>\n",
       "      <th>0</th>\n",
       "      <th>1</th>\n",
       "      <th>2</th>\n",
       "    </tr>\n",
       "  </thead>\n",
       "  <tbody>\n",
       "    <tr>\n",
       "      <th>bedroomcnt</th>\n",
       "      <td>0.0</td>\n",
       "      <td>0.0</td>\n",
       "      <td>0.00</td>\n",
       "    </tr>\n",
       "    <tr>\n",
       "      <th>bathroomcnt</th>\n",
       "      <td>0.0</td>\n",
       "      <td>0.0</td>\n",
       "      <td>0.00</td>\n",
       "    </tr>\n",
       "    <tr>\n",
       "      <th>calculatedfinishedsquarefeet</th>\n",
       "      <td>NaN</td>\n",
       "      <td>NaN</td>\n",
       "      <td>73026.00</td>\n",
       "    </tr>\n",
       "    <tr>\n",
       "      <th>taxvaluedollarcnt</th>\n",
       "      <td>9.0</td>\n",
       "      <td>27516.0</td>\n",
       "      <td>1434941.00</td>\n",
       "    </tr>\n",
       "    <tr>\n",
       "      <th>yearbuilt</th>\n",
       "      <td>NaN</td>\n",
       "      <td>NaN</td>\n",
       "      <td>1959.00</td>\n",
       "    </tr>\n",
       "    <tr>\n",
       "      <th>taxamount</th>\n",
       "      <td>NaN</td>\n",
       "      <td>NaN</td>\n",
       "      <td>20800.37</td>\n",
       "    </tr>\n",
       "    <tr>\n",
       "      <th>fips</th>\n",
       "      <td>6037.0</td>\n",
       "      <td>6037.0</td>\n",
       "      <td>6037.00</td>\n",
       "    </tr>\n",
       "  </tbody>\n",
       "</table>\n",
       "</div>"
      ],
      "text/plain": [
       "                                   0        1           2\n",
       "bedroomcnt                       0.0      0.0        0.00\n",
       "bathroomcnt                      0.0      0.0        0.00\n",
       "calculatedfinishedsquarefeet     NaN      NaN    73026.00\n",
       "taxvaluedollarcnt                9.0  27516.0  1434941.00\n",
       "yearbuilt                        NaN      NaN     1959.00\n",
       "taxamount                        NaN      NaN    20800.37\n",
       "fips                          6037.0   6037.0     6037.00"
      ]
     },
     "execution_count": 55,
     "metadata": {},
     "output_type": "execute_result"
    }
   ],
   "source": [
    "df.head(3).T"
   ]
  }
 ],
 "metadata": {
  "kernelspec": {
   "display_name": "Python 3 (ipykernel)",
   "language": "python",
   "name": "python3"
  },
  "language_info": {
   "codemirror_mode": {
    "name": "ipython",
    "version": 3
   },
   "file_extension": ".py",
   "mimetype": "text/x-python",
   "name": "python",
   "nbconvert_exporter": "python",
   "pygments_lexer": "ipython3",
   "version": "3.9.15"
  }
 },
 "nbformat": 4,
 "nbformat_minor": 5
}
