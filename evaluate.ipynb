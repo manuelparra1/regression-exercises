{
 "cells": [
  {
   "cell_type": "code",
   "execution_count": 1,
   "id": "cd0be522",
   "metadata": {},
   "outputs": [],
   "source": [
    "import pandas as pd\n",
    "import numpy as np\n",
    "\n",
    "import matplotlib.pyplot as plt\n",
    "import seaborn as sns\n",
    "\n",
    "from sklearn.model_selection import train_test_split\n",
    "from sklearn.linear_model import LinearRegression\n",
    "from sklearn.metrics import mean_squared_error, r2_score, explained_variance_score\n",
    "from IPython.display import display, Markdown\n",
    "\n",
    "from math import sqrt\n",
    "\n",
    "from env import *\n",
    "from wrangle import *\n",
    "\n",
    "#import warnings\n",
    "#warnings.filterwarnings(\"ignore\")"
   ]
  },
  {
   "cell_type": "markdown",
   "id": "3703d8f9",
   "metadata": {},
   "source": [
    "### 1. Load your zillow dataset."
   ]
  },
  {
   "cell_type": "code",
   "execution_count": 12,
   "id": "aff9c67a",
   "metadata": {},
   "outputs": [
    {
     "name": "stdout",
     "output_type": "stream",
     "text": [
      "Reading CSV\n"
     ]
    }
   ],
   "source": [
    "### Wrangle Data\n",
    "df = wrangle_zillow()"
   ]
  },
  {
   "cell_type": "code",
   "execution_count": 43,
   "id": "0fb035fa",
   "metadata": {},
   "outputs": [],
   "source": [
    "### Split Data\n",
    "train, val, test = split_data(df)"
   ]
  },
  {
   "cell_type": "markdown",
   "id": "31bff16f",
   "metadata": {},
   "source": [
    "### 2. Fit a linear regression model (ordinary least squares) and compute yhat, predictions of taxvaluedollarcnt using only calculatedfinishedsqft. "
   ]
  },
  {
   "cell_type": "code",
   "execution_count": 44,
   "id": "b3cb4f71",
   "metadata": {
    "scrolled": true
   },
   "outputs": [
    {
     "data": {
      "text/plain": [
       "Index(['Unnamed: 0', 'bedroomcnt', 'bathroomcnt',\n",
       "       'calculatedfinishedsquarefeet', 'taxvaluedollarcnt', 'yearbuilt',\n",
       "       'taxamount', 'fips', 'propertylandusedesc'],\n",
       "      dtype='object')"
      ]
     },
     "execution_count": 44,
     "metadata": {},
     "output_type": "execute_result"
    }
   ],
   "source": [
    "train.columns"
   ]
  },
  {
   "cell_type": "code",
   "execution_count": 45,
   "id": "986a881a",
   "metadata": {},
   "outputs": [],
   "source": [
    "# Target Variable\n",
    "X = 'calculatedfinishedsquarefeet'\n",
    "y = 'taxvaluedollarcnt'"
   ]
  },
  {
   "cell_type": "code",
   "execution_count": 56,
   "id": "ca95ada9",
   "metadata": {},
   "outputs": [],
   "source": [
    "# New DataFrame To Play With\n",
    "# Predictions DataFrame\n",
    "predictions = train[[X,y]]"
   ]
  },
  {
   "cell_type": "code",
   "execution_count": 62,
   "id": "407066b7",
   "metadata": {},
   "outputs": [],
   "source": [
    "# Avoiding Pandas Slice Copy Errors\n",
    "predictions = predictions.assign(baseline_predictions=train[y].mean())"
   ]
  },
  {
   "cell_type": "code",
   "execution_count": 20,
   "id": "976f9d91",
   "metadata": {
    "scrolled": true
   },
   "outputs": [],
   "source": [
    "# Baseline Predictions\n",
    "#predictions['baseline_predictions']=(train[y].mean())"
   ]
  },
  {
   "cell_type": "code",
   "execution_count": 64,
   "id": "ef114df1",
   "metadata": {},
   "outputs": [
    {
     "data": {
      "text/html": [
       "<div>\n",
       "<style scoped>\n",
       "    .dataframe tbody tr th:only-of-type {\n",
       "        vertical-align: middle;\n",
       "    }\n",
       "\n",
       "    .dataframe tbody tr th {\n",
       "        vertical-align: top;\n",
       "    }\n",
       "\n",
       "    .dataframe thead th {\n",
       "        text-align: right;\n",
       "    }\n",
       "</style>\n",
       "<table border=\"1\" class=\"dataframe\">\n",
       "  <thead>\n",
       "    <tr style=\"text-align: right;\">\n",
       "      <th></th>\n",
       "      <th>calculatedfinishedsquarefeet</th>\n",
       "      <th>taxvaluedollarcnt</th>\n",
       "      <th>baseline_predictions</th>\n",
       "    </tr>\n",
       "  </thead>\n",
       "  <tbody>\n",
       "    <tr>\n",
       "      <th>785772</th>\n",
       "      <td>2317.0</td>\n",
       "      <td>605000.0</td>\n",
       "      <td>460813.571707</td>\n",
       "    </tr>\n",
       "  </tbody>\n",
       "</table>\n",
       "</div>"
      ],
      "text/plain": [
       "        calculatedfinishedsquarefeet  taxvaluedollarcnt  baseline_predictions\n",
       "785772                        2317.0           605000.0         460813.571707"
      ]
     },
     "execution_count": 64,
     "metadata": {},
     "output_type": "execute_result"
    }
   ],
   "source": [
    "predictions.head(1)"
   ]
  },
  {
   "cell_type": "code",
   "execution_count": 70,
   "id": "9cb68ffc",
   "metadata": {},
   "outputs": [
    {
     "data": {
      "text/plain": [
       "\"predictions['yhat'] = ols_model.predict(train[[X]])\\n\""
      ]
     },
     "execution_count": 70,
     "metadata": {},
     "output_type": "execute_result"
    }
   ],
   "source": [
    "'''predictions['yhat'] = ols_model.predict(train[[X]])\n",
    "'''"
   ]
  },
  {
   "cell_type": "code",
   "execution_count": 75,
   "id": "49bc477c",
   "metadata": {},
   "outputs": [],
   "source": [
    "# Linear Regression Model\n",
    "# OLS Model\n",
    "ols_model = LinearRegression()\n",
    "ols_model.fit(train[[X]],train[[y]])\n",
    "\n",
    "# Creating new column 'yhat' with Pandas .assign()\n",
    "predictions = predictions.assign(yhat=ols_model.predict(train[[X]]))"
   ]
  },
  {
   "cell_type": "code",
   "execution_count": 78,
   "id": "c023c82b",
   "metadata": {},
   "outputs": [
    {
     "data": {
      "text/html": [
       "<div>\n",
       "<style scoped>\n",
       "    .dataframe tbody tr th:only-of-type {\n",
       "        vertical-align: middle;\n",
       "    }\n",
       "\n",
       "    .dataframe tbody tr th {\n",
       "        vertical-align: top;\n",
       "    }\n",
       "\n",
       "    .dataframe thead th {\n",
       "        text-align: right;\n",
       "    }\n",
       "</style>\n",
       "<table border=\"1\" class=\"dataframe\">\n",
       "  <thead>\n",
       "    <tr style=\"text-align: right;\">\n",
       "      <th></th>\n",
       "      <th>calculatedfinishedsquarefeet</th>\n",
       "      <th>taxvaluedollarcnt</th>\n",
       "      <th>baseline_predictions</th>\n",
       "      <th>yhat</th>\n",
       "      <th>baseline_res</th>\n",
       "    </tr>\n",
       "  </thead>\n",
       "  <tbody>\n",
       "    <tr>\n",
       "      <th>785772</th>\n",
       "      <td>2317.0</td>\n",
       "      <td>605000.0</td>\n",
       "      <td>460813.571707</td>\n",
       "      <td>562892.639005</td>\n",
       "      <td>-144186.428293</td>\n",
       "    </tr>\n",
       "  </tbody>\n",
       "</table>\n",
       "</div>"
      ],
      "text/plain": [
       "        calculatedfinishedsquarefeet  taxvaluedollarcnt  baseline_predictions  \\\n",
       "785772                        2317.0           605000.0         460813.571707   \n",
       "\n",
       "                 yhat   baseline_res  \n",
       "785772  562892.639005 -144186.428293  "
      ]
     },
     "execution_count": 78,
     "metadata": {},
     "output_type": "execute_result"
    }
   ],
   "source": [
    "predictions.head(1)"
   ]
  },
  {
   "cell_type": "markdown",
   "id": "c59fa25c",
   "metadata": {},
   "source": [
    "### 3. Plot the residuals for the linear regression model that you made."
   ]
  },
  {
   "cell_type": "code",
   "execution_count": 76,
   "id": "a090330e",
   "metadata": {},
   "outputs": [],
   "source": [
    "# Baseline Residuals\n",
    "\n",
    "# Creating new column for Baseline Residuals 'baseline_res' using Pandas .assign()\n",
    "predictions = predictions.assign(baseline_res=(predictions['baseline_predictions'] - predictions[y]))\n",
    "\n",
    "#predictions['baseline_res'] = (predictions['baseline_predictions'] - predictions[y])"
   ]
  },
  {
   "cell_type": "code",
   "execution_count": 79,
   "id": "a764670a",
   "metadata": {
    "scrolled": false
   },
   "outputs": [
    {
     "data": {
      "text/html": [
       "<div>\n",
       "<style scoped>\n",
       "    .dataframe tbody tr th:only-of-type {\n",
       "        vertical-align: middle;\n",
       "    }\n",
       "\n",
       "    .dataframe tbody tr th {\n",
       "        vertical-align: top;\n",
       "    }\n",
       "\n",
       "    .dataframe thead th {\n",
       "        text-align: right;\n",
       "    }\n",
       "</style>\n",
       "<table border=\"1\" class=\"dataframe\">\n",
       "  <thead>\n",
       "    <tr style=\"text-align: right;\">\n",
       "      <th></th>\n",
       "      <th>calculatedfinishedsquarefeet</th>\n",
       "      <th>taxvaluedollarcnt</th>\n",
       "      <th>baseline_predictions</th>\n",
       "      <th>yhat</th>\n",
       "      <th>baseline_res</th>\n",
       "    </tr>\n",
       "  </thead>\n",
       "  <tbody>\n",
       "    <tr>\n",
       "      <th>785772</th>\n",
       "      <td>2317.0</td>\n",
       "      <td>605000.0</td>\n",
       "      <td>460813.571707</td>\n",
       "      <td>562892.639005</td>\n",
       "      <td>-144186.428293</td>\n",
       "    </tr>\n",
       "    <tr>\n",
       "      <th>1680852</th>\n",
       "      <td>1100.0</td>\n",
       "      <td>371756.0</td>\n",
       "      <td>460813.571707</td>\n",
       "      <td>288906.668895</td>\n",
       "      <td>89057.571707</td>\n",
       "    </tr>\n",
       "    <tr>\n",
       "      <th>1862470</th>\n",
       "      <td>3262.0</td>\n",
       "      <td>836321.0</td>\n",
       "      <td>460813.571707</td>\n",
       "      <td>775642.632229</td>\n",
       "      <td>-375507.428293</td>\n",
       "    </tr>\n",
       "    <tr>\n",
       "      <th>148761</th>\n",
       "      <td>1920.0</td>\n",
       "      <td>568808.0</td>\n",
       "      <td>460813.571707</td>\n",
       "      <td>473515.128624</td>\n",
       "      <td>-107994.428293</td>\n",
       "    </tr>\n",
       "    <tr>\n",
       "      <th>1770814</th>\n",
       "      <td>992.0</td>\n",
       "      <td>162283.0</td>\n",
       "      <td>460813.571707</td>\n",
       "      <td>264592.383956</td>\n",
       "      <td>298530.571707</td>\n",
       "    </tr>\n",
       "  </tbody>\n",
       "</table>\n",
       "</div>"
      ],
      "text/plain": [
       "         calculatedfinishedsquarefeet  taxvaluedollarcnt  \\\n",
       "785772                         2317.0           605000.0   \n",
       "1680852                        1100.0           371756.0   \n",
       "1862470                        3262.0           836321.0   \n",
       "148761                         1920.0           568808.0   \n",
       "1770814                         992.0           162283.0   \n",
       "\n",
       "         baseline_predictions           yhat   baseline_res  \n",
       "785772          460813.571707  562892.639005 -144186.428293  \n",
       "1680852         460813.571707  288906.668895   89057.571707  \n",
       "1862470         460813.571707  775642.632229 -375507.428293  \n",
       "148761          460813.571707  473515.128624 -107994.428293  \n",
       "1770814         460813.571707  264592.383956  298530.571707  "
      ]
     },
     "execution_count": 79,
     "metadata": {},
     "output_type": "execute_result"
    }
   ],
   "source": [
    "predictions.head()"
   ]
  },
  {
   "cell_type": "markdown",
   "id": "936683e3",
   "metadata": {},
   "source": [
    "# `residual = (yhat - y)`"
   ]
  },
  {
   "cell_type": "code",
   "execution_count": 80,
   "id": "909c306b",
   "metadata": {
    "scrolled": true
   },
   "outputs": [],
   "source": [
    "# Prediction Residuals\n",
    "\n",
    "# Creating new column for Prediction Residuals 'yhat_res' using Pandas .assign()\n",
    "predictions = predictions.assign(yhat_res=(predictions['yhat']-predictions[y]))\n",
    "\n",
    "# Old Method\n",
    "#predictions['yhat_res'] = predictions['yhat']-predictions[y]"
   ]
  },
  {
   "cell_type": "code",
   "execution_count": 82,
   "id": "2b780669",
   "metadata": {
    "scrolled": true
   },
   "outputs": [
    {
     "data": {
      "text/html": [
       "<div>\n",
       "<style scoped>\n",
       "    .dataframe tbody tr th:only-of-type {\n",
       "        vertical-align: middle;\n",
       "    }\n",
       "\n",
       "    .dataframe tbody tr th {\n",
       "        vertical-align: top;\n",
       "    }\n",
       "\n",
       "    .dataframe thead th {\n",
       "        text-align: right;\n",
       "    }\n",
       "</style>\n",
       "<table border=\"1\" class=\"dataframe\">\n",
       "  <thead>\n",
       "    <tr style=\"text-align: right;\">\n",
       "      <th></th>\n",
       "      <th>calculatedfinishedsquarefeet</th>\n",
       "      <th>taxvaluedollarcnt</th>\n",
       "      <th>baseline_predictions</th>\n",
       "      <th>yhat</th>\n",
       "      <th>baseline_res</th>\n",
       "      <th>yhat_res</th>\n",
       "    </tr>\n",
       "  </thead>\n",
       "  <tbody>\n",
       "    <tr>\n",
       "      <th>785772</th>\n",
       "      <td>2317.0</td>\n",
       "      <td>605000.0</td>\n",
       "      <td>460813.571707</td>\n",
       "      <td>562892.639005</td>\n",
       "      <td>-144186.428293</td>\n",
       "      <td>-42107.360995</td>\n",
       "    </tr>\n",
       "    <tr>\n",
       "      <th>1680852</th>\n",
       "      <td>1100.0</td>\n",
       "      <td>371756.0</td>\n",
       "      <td>460813.571707</td>\n",
       "      <td>288906.668895</td>\n",
       "      <td>89057.571707</td>\n",
       "      <td>-82849.331105</td>\n",
       "    </tr>\n",
       "    <tr>\n",
       "      <th>1862470</th>\n",
       "      <td>3262.0</td>\n",
       "      <td>836321.0</td>\n",
       "      <td>460813.571707</td>\n",
       "      <td>775642.632229</td>\n",
       "      <td>-375507.428293</td>\n",
       "      <td>-60678.367771</td>\n",
       "    </tr>\n",
       "    <tr>\n",
       "      <th>148761</th>\n",
       "      <td>1920.0</td>\n",
       "      <td>568808.0</td>\n",
       "      <td>460813.571707</td>\n",
       "      <td>473515.128624</td>\n",
       "      <td>-107994.428293</td>\n",
       "      <td>-95292.871376</td>\n",
       "    </tr>\n",
       "    <tr>\n",
       "      <th>1770814</th>\n",
       "      <td>992.0</td>\n",
       "      <td>162283.0</td>\n",
       "      <td>460813.571707</td>\n",
       "      <td>264592.383956</td>\n",
       "      <td>298530.571707</td>\n",
       "      <td>102309.383956</td>\n",
       "    </tr>\n",
       "  </tbody>\n",
       "</table>\n",
       "</div>"
      ],
      "text/plain": [
       "         calculatedfinishedsquarefeet  taxvaluedollarcnt  \\\n",
       "785772                         2317.0           605000.0   \n",
       "1680852                        1100.0           371756.0   \n",
       "1862470                        3262.0           836321.0   \n",
       "148761                         1920.0           568808.0   \n",
       "1770814                         992.0           162283.0   \n",
       "\n",
       "         baseline_predictions           yhat   baseline_res       yhat_res  \n",
       "785772          460813.571707  562892.639005 -144186.428293  -42107.360995  \n",
       "1680852         460813.571707  288906.668895   89057.571707  -82849.331105  \n",
       "1862470         460813.571707  775642.632229 -375507.428293  -60678.367771  \n",
       "148761          460813.571707  473515.128624 -107994.428293  -95292.871376  \n",
       "1770814         460813.571707  264592.383956  298530.571707  102309.383956  "
      ]
     },
     "execution_count": 82,
     "metadata": {},
     "output_type": "execute_result"
    }
   ],
   "source": [
    "predictions.head()"
   ]
  },
  {
   "cell_type": "code",
   "execution_count": 83,
   "id": "011ca986",
   "metadata": {},
   "outputs": [
    {
     "data": {
      "image/png": "[encoded data removed]",
      "text/plain": [
       "<Figure size 640x480 with 1 Axes>"
      ]
     },
     "metadata": {},
     "output_type": "display_data"
    }
   ],
   "source": [
    "# Plot Baseline Residuals\n",
    "plt.scatter(predictions[X],predictions['baseline_res'])\n",
    "plt.xlabel('calculatedfinishedsqft')\n",
    "plt.ylabel('Baseline Residual')\n",
    "plt.show()"
   ]
  },
  {
   "cell_type": "code",
   "execution_count": 84,
   "id": "f189de37",
   "metadata": {},
   "outputs": [
    {
     "data": {
      "image/png": "[encoded data removed]",
      "text/plain": [
       "<Figure size 640x480 with 1 Axes>"
      ]
     },
     "metadata": {},
     "output_type": "display_data"
    }
   ],
   "source": [
    "# Plot Y-Hat Residual\n",
    "plt.scatter(predictions[X],predictions['yhat_res'])\n",
    "plt.xlabel('calculatedfinishedsqft')\n",
    "plt.ylabel('Y-Hat Residual')\n",
    "plt.show()"
   ]
  },
  {
   "cell_type": "markdown",
   "id": "256dc7bc",
   "metadata": {},
   "source": [
    "### 4. Calculate the sum of squared errors, explained sum of squares, total sum of squares, mean squared error, and root mean squared error for your model."
   ]
  },
  {
   "cell_type": "code",
   "execution_count": 87,
   "id": "d4ea0228",
   "metadata": {},
   "outputs": [
    {
     "name": "stdout",
     "output_type": "stream",
     "text": [
      "SSE = 5.1868237963800486e+17\n",
      "MSE = 378669377359.3757\n",
      "RMSE = 615361.1763504224\n"
     ]
    }
   ],
   "source": [
    "# SSE\n",
    "\n",
    "# Pre-work\n",
    "predictions['baseline_res_squared'] = predictions['baseline_res']**2\n",
    "predictions['yhat_res_squared']= predictions['yhat_res']**2\n",
    "# Calculations\n",
    "sse_yhat = predictions['yhat_res_squared'].sum()\n",
    "print(f\"SSE = {sse_yhat}\")\n",
    "\n",
    "\n",
    "# MSE\n",
    "mse_yhat = sse_yhat/len(predictions)\n",
    "print(f\"MSE = {mse_yhat}\")\n",
    "\n",
    "# RMSE\n",
    "rmse_yhat = sqrt(mse_yhat)\n",
    "print(f\"RMSE = {rmse_yhat}\")"
   ]
  },
  {
   "cell_type": "markdown",
   "id": "f40df7cb",
   "metadata": {},
   "source": [
    "###  5. Calculate the sum of squared errors, mean squared error, and root mean squared error for the baseline model (i.e. a model that always predicts the average taxvaluedollarcnt amount)."
   ]
  },
  {
   "cell_type": "code",
   "execution_count": 88,
   "id": "691dd9ef",
   "metadata": {},
   "outputs": [
    {
     "name": "stdout",
     "output_type": "stream",
     "text": [
      "SSE Baseline = 6.443462189474961e+17\n",
      "MSE Baseline = 470411548784.44684\n",
      "RMSE Baseline = 685865.5471624499\n"
     ]
    }
   ],
   "source": [
    "# SSE Baseline\n",
    "sse_baseline = predictions['baseline_res_squared'].sum()\n",
    "\n",
    "# MSE Baseline\n",
    "mse_baseline = sse_baseline/len(predictions)\n",
    "\n",
    "# RMSE Baseline\n",
    "rmse_baseline = sqrt(mse_baseline)\n",
    "print(f\"SSE Baseline = {sse_baseline}\")\n",
    "print(f\"MSE Baseline = {mse_baseline}\")\n",
    "print(f\"RMSE Baseline = {rmse_baseline}\")"
   ]
  },
  {
   "cell_type": "markdown",
   "id": "1d145134",
   "metadata": {},
   "source": [
    "### 6. Write python code that compares the sum of squared errors for your model against the sum of squared errors for the baseline model and outputs whether or not your model performs better than the baseline model."
   ]
  },
  {
   "cell_type": "code",
   "execution_count": 89,
   "id": "febc727c",
   "metadata": {},
   "outputs": [
    {
     "data": {
      "text/plain": [
       "True"
      ]
     },
     "execution_count": 89,
     "metadata": {},
     "output_type": "execute_result"
    }
   ],
   "source": [
    "(sse_yhat < sse_baseline)"
   ]
  },
  {
   "cell_type": "markdown",
   "id": "4c931464",
   "metadata": {},
   "source": [
    "### 7. What is the amount of variance explained in your model."
   ]
  },
  {
   "cell_type": "code",
   "execution_count": 91,
   "id": "1ac90fe5",
   "metadata": {},
   "outputs": [
    {
     "name": "stdout",
     "output_type": "stream",
     "text": [
      "ESS = 1.2566383930961896e+17\n"
     ]
    },
    {
     "data": {
      "text/markdown": [
       "\n",
       "\n",
       "ESS $R^2$ = `0.19502533826431886`\n",
       "\n"
      ],
      "text/plain": [
       "<IPython.core.display.Markdown object>"
      ]
     },
     "metadata": {},
     "output_type": "display_data"
    }
   ],
   "source": [
    "ess_baseline = 0\n",
    "\n",
    "# ESS\n",
    "predictions['yhat_mean_res'] = predictions['yhat'] - predictions['baseline_predictions']\n",
    "predictions['yhat_mean_res_squared'] = predictions['yhat_mean_res']**2\n",
    "\n",
    "\n",
    "ess_yhat = predictions['yhat_mean_res_squared'].sum()\n",
    "tss_yhat = sse_yhat + ess_yhat\n",
    "\n",
    "ess_yhat / tss_yhat\n",
    "\n",
    "# Output\n",
    "print(f\"ESS = {sum((predictions['yhat'] - predictions[y].mean())**2)}\")\n",
    "display(Markdown(rf\"\"\"\n",
    "\n",
    "ESS $R^2$ = `{ess_yhat/tss_yhat}`\n",
    "\n",
    "\"\"\"))\n",
    "\n",
    "# TSS\n",
    "tss_baseline = sse_baseline+ess_baseline\n",
    "tss_yhat = sse_yhat+ess_yhat"
   ]
  },
  {
   "cell_type": "markdown",
   "id": "b8465f50",
   "metadata": {},
   "source": [
    "### 8. Is your model better than the baseline model?"
   ]
  },
  {
   "cell_type": "code",
   "execution_count": 103,
   "id": "4375e4ae",
   "metadata": {
    "scrolled": true
   },
   "outputs": [
    {
     "name": "stdout",
     "output_type": "stream",
     "text": [
      "-= SciKit Learn Function() =- \n",
      "explained_variance_score(yhat): 0.1950253382641962\n"
     ]
    }
   ],
   "source": [
    "# yhat variance\n",
    "evs_yhat=explained_variance_score(predictions[y],predictions['yhat'])\n",
    "print(\"-= SciKit Learn Function() =- \")\n",
    "print(f\"explained_variance_score(yhat): {evs_yhat}\")"
   ]
  },
  {
   "cell_type": "code",
   "execution_count": 104,
   "id": "49f27023",
   "metadata": {},
   "outputs": [
    {
     "name": "stdout",
     "output_type": "stream",
     "text": [
      "-= SciKit Learn Function() =- \n",
      "explained_variance_score(Baseline): 0.0\n"
     ]
    }
   ],
   "source": [
    "# baseline variance\n",
    "evs_baseline=explained_variance_score(predictions[y],predictions['baseline_predictions'])\n",
    "print(\"-= SciKit Learn Function() =- \")\n",
    "print(f\"explained_variance_score(Baseline): {evs_baseline}\")"
   ]
  },
  {
   "cell_type": "code",
   "execution_count": 106,
   "id": "c9042426",
   "metadata": {},
   "outputs": [
    {
     "data": {
      "text/plain": [
       "True"
      ]
     },
     "execution_count": 106,
     "metadata": {},
     "output_type": "execute_result"
    }
   ],
   "source": [
    "evs_yhat > evs_baseline"
   ]
  },
  {
   "cell_type": "code",
   "execution_count": null,
   "id": "1ec8b7a1",
   "metadata": {},
   "outputs": [],
   "source": [
    "# Yes"
   ]
  },
  {
   "cell_type": "markdown",
   "id": "dad63b22",
   "metadata": {},
   "source": [
    "### 9. Create a file named evaluate.py that contains the following functions.\n",
    "\n",
    "```python\n",
    "    plot_residuals(y, yhat): creates a residual plot\n",
    "    regression_errors(y, yhat): returns the following values:\n",
    "        sum of squared errors (SSE)\n",
    "        explained sum of squares (ESS)\n",
    "        total sum of squares (TSS)\n",
    "        mean squared error (MSE)\n",
    "        root mean squared error (RMSE)\n",
    "    baseline_mean_errors(y): computes the SSE, MSE, and RMSE for the baseline model\n",
    "    better_than_baseline(y, yhat): returns true if your model performs better than the baseline, otherwise false\n",
    "```"
   ]
  },
  {
   "cell_type": "markdown",
   "id": "2b400fe4",
   "metadata": {},
   "source": [
    "## `evaluate.py`"
   ]
  },
  {
   "cell_type": "code",
   "execution_count": 94,
   "id": "3ee967e1",
   "metadata": {},
   "outputs": [],
   "source": [
    "def plot_residuals(y, yhat):\n",
    "    # Calculate Residuals\n",
    "    residuals = y - yhat\n",
    "\n",
    "    # P L O T T I N G\n",
    "    plt.hlines(0, y.min(), y.max(), ls='--')\n",
    "    plt.scatter(y, residuals)\n",
    "    plt.ylabel('residual ($y - \\hat{y}$)')\n",
    "    plt.xlabel('y value ($y$)')\n",
    "    plt.title('y vs yhat')\n",
    "    plt.show()"
   ]
  },
  {
   "cell_type": "code",
   "execution_count": 95,
   "id": "07262b94",
   "metadata": {},
   "outputs": [
    {
     "data": {
      "image/png": "[encoded data removed]",
      "text/plain": [
       "<Figure size 640x480 with 1 Axes>"
      ]
     },
     "metadata": {},
     "output_type": "display_data"
    }
   ],
   "source": [
    "plot_residuals(predictions[y], predictions['yhat'])"
   ]
  },
  {
   "cell_type": "code",
   "execution_count": null,
   "id": "494d1618",
   "metadata": {},
   "outputs": [],
   "source": [
    "explained_variance_score"
   ]
  },
  {
   "cell_type": "code",
   "execution_count": 96,
   "id": "696cf292",
   "metadata": {},
   "outputs": [],
   "source": [
    "def regression_errors(y, yhat):\n",
    "    MSE = mean_squared_error(y, yhat)\n",
    "    SSE = MSE * len(y)\n",
    "    RMSE = MSE**.5\n",
    "    \n",
    "    ESS = ((yhat - y.mean())**2).sum()\n",
    "    TSS = ESS + SSE\n",
    "    \n",
    "    return SSE, ESS, TSS, MSE, RMSE"
   ]
  },
  {
   "cell_type": "code",
   "execution_count": 97,
   "id": "8104376a",
   "metadata": {},
   "outputs": [],
   "source": [
    "SSE, ESS, TSS, MSE, RMSE = regression_errors(predictions[y], predictions['yhat'])"
   ]
  },
  {
   "cell_type": "code",
   "execution_count": 99,
   "id": "799b3515",
   "metadata": {},
   "outputs": [],
   "source": [
    "def baseline_mean_errors(y):\n",
    "    baseline = np.repeat(y.mean(), len(y))\n",
    "    \n",
    "    MSE = mean_squared_error(y, baseline)\n",
    "    SSE = MSE * len(y)\n",
    "    RMSE = MSE**.5\n",
    "    \n",
    "    return SSE, MSE, RMSE"
   ]
  },
  {
   "cell_type": "code",
   "execution_count": 100,
   "id": "cba673be",
   "metadata": {},
   "outputs": [],
   "source": [
    "SSE, MSE, RMSE = baseline_mean_errors(predictions[y])"
   ]
  },
  {
   "cell_type": "code",
   "execution_count": 101,
   "id": "2be4e8cb",
   "metadata": {},
   "outputs": [],
   "source": [
    "def better_than_baseline(y, yhat):\n",
    "    SSE, ESS, TSS, MSE, RMSE = regression_errors(y, yhat)\n",
    "    \n",
    "    SSE_baseline, MSE_baseline, RMSE_baseline = baseline_mean_errors(y)\n",
    "    \n",
    "    if SSE < SSE_baseline:\n",
    "        print('better than baseline')\n",
    "    else:\n",
    "        print('not better than baseline')"
   ]
  },
  {
   "cell_type": "code",
   "execution_count": 102,
   "id": "79deca37",
   "metadata": {},
   "outputs": [
    {
     "name": "stdout",
     "output_type": "stream",
     "text": [
      "better than baseline\n"
     ]
    }
   ],
   "source": [
    "better_than_baseline(predictions[y], predictions['yhat'])"
   ]
  }
 ],
 "metadata": {
  "kernelspec": {
   "display_name": "Python 3 (ipykernel)",
   "language": "python",
   "name": "python3"
  },
  "language_info": {
   "codemirror_mode": {
    "name": "ipython",
    "version": 3
   },
   "file_extension": ".py",
   "mimetype": "text/x-python",
   "name": "python",
   "nbconvert_exporter": "python",
   "pygments_lexer": "ipython3",
   "version": "3.9.15"
  }
 },
 "nbformat": 4,
 "nbformat_minor": 5
}
